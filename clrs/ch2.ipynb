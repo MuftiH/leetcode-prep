{
 "cells": [
  {
   "cell_type": "code",
   "execution_count": 6,
   "metadata": {},
   "outputs": [
    {
     "data": {
      "text/plain": [
       "[1, 2, 3, 4, 5, 6]"
      ]
     },
     "execution_count": 6,
     "metadata": {},
     "output_type": "execute_result"
    }
   ],
   "source": [
    "def insertion_sort(lst):\n",
    "  for i in range(1, len(lst)):\n",
    "    key = lst[i]\n",
    "    # insert lst[i] into the sorted subarray lst[0:i-1]\n",
    "    j = i - 1\n",
    "    while j >= 0 and lst[j] > key:\n",
    "      lst[j + 1] = lst[j]\n",
    "      j = j - 1\n",
    "    lst[j + 1] = key\n",
    "  return lst\n",
    "\n",
    "insertion_sort([5, 2, 4, 6, 1, 3])"
   ]
  },
  {
   "cell_type": "markdown",
   "metadata": {},
   "source": [
    "### Exercise 2.1-1\n",
    "> Using Figure 2.2 as a model, illustrate the operation of `insertion_sort` on an array initially containing the sequnce $\\{31, 41, 59, 26, 41, 58\\}$.\n",
    "\n",
    "*Answer:* ![alt text](assets/2.1-1.jpeg \"Title\")"
   ]
  },
  {
   "cell_type": "markdown",
   "metadata": {},
   "source": [
    "### Exercise 2.1-2\n",
    "> Consider the procedure `sum_array` below. It computes the sum of the $n$ numbers in array $A[0 : n-1]$. State a loop invariant for this procedure, and use its initialization, maintenance, and termination properties to show that the `sum_array` procedure is correct.\n",
    ">\n",
    "> ```python\n",
    "> def sum_array(A):\n",
    ">   sum = 0\n",
    ">   for i in range(len(A)):\n",
    ">     sum = sum + A[i]\n",
    ">   return sum\n",
    "> ```\n",
    "\n",
    "*Answer:* \n",
    "\n",
    "**Inv:** At the start of each iteration of the `for` loop of lines 2-3, the variable `sum` contains the sum of the subarray $A[0 : i-1]$. That is, `sum = A[0] + A[1] + ... + A[i-1]`.\n",
    "\n",
    "**Initialization:** We start by showing that the loop invariant holds before the first loop iteration. Before the loop starts, the subarray $A[0 : -1]$ is empty, so the sum of its elements is 0. Thus, the loop invariant holds.\n",
    "\n",
    "**Maintenance:** Next, we tackle the second property: showing that each iteration maintains the loop invariant. The body of the `for` loop adds the value `A[i]` to `sum`. Since `sum = A[0] + ... + A[i-1]` before the iteration, we have that `sum' = A[i] = A[0] + ... + A[i-1] + A[i]`. Incrementing `i` for the next iteration of the `for` loop then preserves the loop invariant.\n",
    "\n",
    "**Termination:** The loop terminates when `i = len(A)`. By the loop invariant, `sum = A[0] + ... + A[i-1]`. Substituting `i = len(A)` gives `sum = A[0] + ... + A[len(A)-1]`, which is the sum of the entire array. Thus, the `sum_array` algorithm is correct."
   ]
  },
  {
   "cell_type": "markdown",
   "metadata": {},
   "source": [
    "### Exercise 2.1-3\n",
    "> Rewrite the `insertion_sort` procedure to sort into monotonically decreasing instead of monotonically increasing order. \n",
    "\n",
    "*Answer:*"
   ]
  },
  {
   "cell_type": "code",
   "execution_count": 2,
   "metadata": {},
   "outputs": [
    {
     "data": {
      "text/plain": [
       "[6, 5, 4, 3, 2, 1]"
      ]
     },
     "execution_count": 2,
     "metadata": {},
     "output_type": "execute_result"
    }
   ],
   "source": [
    "def my_insertion_sort(lst):\n",
    "  for i in range(1, len(lst)):\n",
    "    key = lst[i]\n",
    "    # insert lst[i] into the sorted subarray lst[0:i-1]\n",
    "    j = i - 1\n",
    "    while j >= 0 and lst[j] < key: # change > to <\n",
    "      lst[j + 1] = lst[j]\n",
    "      j = j - 1\n",
    "    lst[j + 1] = key\n",
    "  return lst\n",
    "\n",
    "my_insertion_sort([5, 2, 4, 6, 1, 3])"
   ]
  },
  {
   "cell_type": "markdown",
   "metadata": {},
   "source": [
    "### Exercise 2.1-4\n",
    "> Consider the *searching problem:*\n",
    "> \n",
    "> **Input:** A sequence of $n$ numbers $\\{a_1, a_2, ..., a_n\\}$ stored in array $A[1:n]$ and a value $x$. \n",
    "> \n",
    "> **Output:** An index $i$ such that $x$ equals $A[i]$ or the special value NIL if $x$ does not appear in $A$.\n",
    ">\n",
    "> Write pseudocode for *linear search*, which scans through the array from beginning to end for $x.$ Using a loop invariant, prove that your algorithm is correct. Make sure that your loop invariant fulfills the three necessary properties. \n",
    "\n",
    "*Answer:*"
   ]
  },
  {
   "cell_type": "code",
   "execution_count": null,
   "metadata": {},
   "outputs": [],
   "source": [
    "def linear_search(lst, x):\n",
    "  for i in range(len(lst)):\n",
    "    if lst[i] == x:\n",
    "      return i\n",
    "  return None"
   ]
  },
  {
   "cell_type": "markdown",
   "metadata": {},
   "source": [
    "**Inv:** At the start of each iteration of the `for` loop of lines 2-4, the subarray $A[1:i-1]$ does not contain the value $x.$ That is, $x \\neq A[1], x \\neq A[2], ..., x \\neq A[i-1]$.\n",
    "\n",
    "**Initialization:** Before the loop starts, the subarray $A[1:0]$ is empty, so clearly the loop invariant holds.\n",
    "\n",
    "**Maintenance:** Suppose that the invariant holds for the $i-1$th iteration. If $x = A[i]$, then the algorithm terminates and returns $i$. Otherwise, $x \\neq A[i]$, so $x \\neq A[1], x \\neq A[2], ..., x \\neq A[i-1], x \\neq A[i]$. Thus, the loop invariant holds for the $i$th iteration.\n",
    "\n",
    "**Termination:** If $x = A[i]$ for some $i$, then the algorithm terminates and returns $i$. Otherwise, the loop terminates when $i = n$, and the algorithm returns NIL. Thus, the algorithm is correct."
   ]
  },
  {
   "cell_type": "markdown",
   "metadata": {},
   "source": [
    "### Exercise 2.1-5 \n",
    "> Consider the problem of adding two $n$-bit binary integers $a$ and $b$, \n",
    "> stored in two $n$-element arrays $A[0:n-1]$ and $B[0:n-1],$ where ach element is either $0$ or $1$, $a = \\sum_{i=0}^{n-1}A[i]\\cdot 2^i,$ and $b = \\sum_{i=0}^{n-1}B[i]\\cdot 2^i.$ The sum $c = a + b$ of the two integers should be stored in binary form in an $(n + 1)$-element array $C[0:n],$ and $c=\\sum_{i=0}^{n}C[i]\\cdot 2^i.$ Write a procedure `add_binary_integers` that takes as input arrays $A$ an $B$, along with the length $n$, and returns array $C$ holding the sum. "
   ]
  },
  {
   "cell_type": "code",
   "execution_count": 4,
   "metadata": {},
   "outputs": [],
   "source": [
    "def add_binary_integers(A, B): \n",
    "  assert len(A) == len(B)\n",
    "\n",
    "  C = [0]\n",
    "  for i in range(len(A)):\n",
    "    C[i] = C[i] + A[i] + B[i]\n",
    "    C.append(C[i] // 2)\n",
    "    C[i] = C[i] % 2\n",
    "  assert len(C) == len(A) + 1 == len(B) + 1\n",
    "  return C"
   ]
  },
  {
   "cell_type": "code",
   "execution_count": 9,
   "metadata": {},
   "outputs": [
    {
     "data": {
      "text/plain": [
       "[0, 1]"
      ]
     },
     "execution_count": 9,
     "metadata": {},
     "output_type": "execute_result"
    }
   ],
   "source": [
    "A = [1]\n",
    "B = [1]\n",
    "add_binary_integers(A, B)"
   ]
  },
  {
   "cell_type": "code",
   "execution_count": null,
   "metadata": {},
   "outputs": [],
   "source": []
  }
 ],
 "metadata": {
  "kernelspec": {
   "display_name": "Python 3",
   "language": "python",
   "name": "python3"
  },
  "language_info": {
   "codemirror_mode": {
    "name": "ipython",
    "version": 3
   },
   "file_extension": ".py",
   "mimetype": "text/x-python",
   "name": "python",
   "nbconvert_exporter": "python",
   "pygments_lexer": "ipython3",
   "version": "3.12.1"
  }
 },
 "nbformat": 4,
 "nbformat_minor": 2
}
