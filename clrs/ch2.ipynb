{
 "cells": [
  {
   "cell_type": "code",
   "execution_count": 6,
   "metadata": {},
   "outputs": [
    {
     "data": {
      "text/plain": [
       "[1, 2, 3, 4, 5, 6]"
      ]
     },
     "execution_count": 6,
     "metadata": {},
     "output_type": "execute_result"
    }
   ],
   "source": [
    "def insertion_sort(lst):\n",
    "  for i in range(1, len(lst)):\n",
    "    key = lst[i]\n",
    "    # insert lst[i] into the sorted subarray lst[0:i-1]\n",
    "    j = i - 1\n",
    "    while j >= 0 and lst[j] > key:\n",
    "      lst[j + 1] = lst[j]\n",
    "      j = j - 1\n",
    "    lst[j + 1] = key\n",
    "  return lst\n",
    "\n",
    "insertion_sort([5, 2, 4, 6, 1, 3])"
   ]
  },
  {
   "cell_type": "markdown",
   "metadata": {},
   "source": [
    "### Exercise 2.1-1\n",
    "> Using Figure 2.2 as a model, illustrate the operation of `insertion_sort` on an array initially containing the sequnce $\\{31, 41, 59, 26, 41, 58\\}$.\n",
    "\n",
    "*Answer:* ![alt text](assets/2.1-1.jpeg \"Title\")"
   ]
  },
  {
   "cell_type": "markdown",
   "metadata": {},
   "source": [
    "### Exercise 2.1-2\n",
    "> Consider the procedure `sum_array` below. It computes the sum of the $n$ numbers in array $A[0 : n-1]$. State a loop invariant for this procedure, and use its initialization, maintenance, and termination properties to show that the `sum_array` procedure is correct.\n",
    ">\n",
    "> ```python\n",
    "> def sum_array(A):\n",
    ">   sum = 0\n",
    ">   for i in range(len(A)):\n",
    ">     sum = sum + A[i]\n",
    ">   return sum\n",
    "> ```\n",
    "\n",
    "*Answer:* \n",
    "\n",
    "**Inv:** At the start of each iteration of the `for` loop of lines 2-3, the variable `sum` contains the sum of the subarray $A[0 : i-1]$. That is, `sum = A[0] + A[1] + ... + A[i-1]`.\n",
    "\n",
    "**Initialization:** We start by showing that the loop invariant holds before the first loop iteration. Before the loop starts, the subarray $A[0 : -1]$ is empty, so the sum of its elements is 0. Thus, the loop invariant holds.\n",
    "\n",
    "**Maintenance:** Next, we tackle the second property: showing that each iteration maintains the loop invariant. The body of the `for` loop adds the value `A[i]` to `sum`. Since `sum = A[0] + ... + A[i-1]` before the iteration, we have that `sum' = A[i] = A[0] + ... + A[i-1] + A[i]`. Incrementing `i` for the next iteration of the `for` loop then preserves the loop invariant.\n",
    "\n",
    "**Termination:** The loop terminates when `i = len(A)`. By the loop invariant, `sum = A[0] + ... + A[i-1]`. Substituting `i = len(A)` gives `sum = A[0] + ... + A[len(A)-1]`, which is the sum of the entire array. Thus, the `sum_array` algorithm is correct."
   ]
  },
  {
   "cell_type": "markdown",
   "metadata": {},
   "source": [
    "### Exercise 2.1-3\n",
    "> Rewrite the `insertion_sort` procedure to sort into monotonically decreasing instead of monotonically increasing order. \n",
    "\n",
    "*Answer:*"
   ]
  },
  {
   "cell_type": "code",
   "execution_count": 2,
   "metadata": {},
   "outputs": [
    {
     "data": {
      "text/plain": [
       "[6, 5, 4, 3, 2, 1]"
      ]
     },
     "execution_count": 2,
     "metadata": {},
     "output_type": "execute_result"
    }
   ],
   "source": [
    "def my_insertion_sort(lst):\n",
    "  for i in range(1, len(lst)):\n",
    "    key = lst[i]\n",
    "    # insert lst[i] into the sorted subarray lst[0:i-1]\n",
    "    j = i - 1\n",
    "    while j >= 0 and lst[j] < key: # change > to <\n",
    "      lst[j + 1] = lst[j]\n",
    "      j = j - 1\n",
    "    lst[j + 1] = key\n",
    "  return lst\n",
    "\n",
    "my_insertion_sort([5, 2, 4, 6, 1, 3])"
   ]
  },
  {
   "cell_type": "code",
   "execution_count": null,
   "metadata": {},
   "outputs": [],
   "source": []
  }
 ],
 "metadata": {
  "kernelspec": {
   "display_name": "Python 3",
   "language": "python",
   "name": "python3"
  },
  "language_info": {
   "codemirror_mode": {
    "name": "ipython",
    "version": 3
   },
   "file_extension": ".py",
   "mimetype": "text/x-python",
   "name": "python",
   "nbconvert_exporter": "python",
   "pygments_lexer": "ipython3",
   "version": "3.12.1"
  }
 },
 "nbformat": 4,
 "nbformat_minor": 2
}
