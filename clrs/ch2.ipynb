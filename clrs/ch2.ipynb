{
 "cells": [
  {
   "cell_type": "code",
   "execution_count": 6,
   "metadata": {},
   "outputs": [
    {
     "data": {
      "text/plain": [
       "[1, 2, 3, 4, 5, 6]"
      ]
     },
     "execution_count": 6,
     "metadata": {},
     "output_type": "execute_result"
    }
   ],
   "source": [
    "def insertion_sort(lst):\n",
    "  for i in range(1, len(lst)):\n",
    "    key = lst[i]\n",
    "    # insert lst[i] into the sorted subarray lst[0:i-1]\n",
    "    j = i - 1\n",
    "    while j >= 0 and lst[j] > key:\n",
    "      lst[j + 1] = lst[j]\n",
    "      j = j - 1\n",
    "    lst[j + 1] = key\n",
    "  return lst\n",
    "\n",
    "insertion_sort([5, 2, 4, 6, 1, 3])"
   ]
  },
  {
   "cell_type": "code",
   "execution_count": null,
   "metadata": {},
   "outputs": [],
   "source": []
  }
 ],
 "metadata": {
  "kernelspec": {
   "display_name": "Python 3",
   "language": "python",
   "name": "python3"
  },
  "language_info": {
   "codemirror_mode": {
    "name": "ipython",
    "version": 3
   },
   "file_extension": ".py",
   "mimetype": "text/x-python",
   "name": "python",
   "nbconvert_exporter": "python",
   "pygments_lexer": "ipython3",
   "version": "3.12.1"
  }
 },
 "nbformat": 4,
 "nbformat_minor": 2
}
